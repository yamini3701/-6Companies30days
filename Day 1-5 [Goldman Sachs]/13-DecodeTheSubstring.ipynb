{
 "cells": [
  {
   "cell_type": "code",
   "execution_count": null,
   "id": "0cd89306",
   "metadata": {},
   "outputs": [],
   "source": [
    "# #6Companies30Days Challenge GoldmanSachs-13 (Decode the substring)\n",
    "#User function Template for python3\n",
    "\n",
    "class Solution:\n",
    "    def decodedString(self, s: str) -> str:\n",
    "        \n",
    "        stack = []\n",
    "        \n",
    "        for i in range(len(s)):\n",
    "            if s[i] != \"]\":\n",
    "                stack.append(s[i])\n",
    "            else:\n",
    "                substr = \"\"\n",
    "                while stack[-1] != \"[\":\n",
    "                    substr = stack.pop() + substr\n",
    "                stack.pop()\n",
    "                \n",
    "                k=\"\"\n",
    "                \n",
    "                while stack and stack[-1].isdigit():\n",
    "                    k=stack.pop() + k\n",
    "                stack.append(int(k)*substr)\n",
    "        return \"\".join(stack)\n",
    "#{ \n",
    "#  Driver Code Starts\n",
    "#Initial Template for Python 3\n",
    "\n",
    "if __name__ == '__main__':\n",
    "    t = int(input())\n",
    "    for _ in range(t):\n",
    "        s = input()\n",
    "        \n",
    "        ob = Solution()\n",
    "        print(ob.decodedString(s))\n",
    "# } Driver Code Ends"
   ]
  },
  {
   "cell_type": "code",
   "execution_count": null,
   "id": "46372935",
   "metadata": {},
   "outputs": [],
   "source": []
  }
 ],
 "metadata": {
  "kernelspec": {
   "display_name": "Python 3",
   "language": "python",
   "name": "python3"
  },
  "language_info": {
   "codemirror_mode": {
    "name": "ipython",
    "version": 3
   },
   "file_extension": ".py",
   "mimetype": "text/x-python",
   "name": "python",
   "nbconvert_exporter": "python",
   "pygments_lexer": "ipython3",
   "version": "3.8.8"
  }
 },
 "nbformat": 4,
 "nbformat_minor": 5
}
